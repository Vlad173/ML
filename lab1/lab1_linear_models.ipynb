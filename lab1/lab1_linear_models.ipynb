{
 "cells": [
  {
   "cell_type": "code",
   "execution_count": 1,
   "id": "117f78a2",
   "metadata": {},
   "outputs": [],
   "source": [
    "# импортируем нужные для работы библиотеки\n",
    "import pandas as pd\n",
    "import seaborn as sns\n",
    "import matplotlib.pyplot as plt\n",
    "import pickle"
   ]
  },
  {
   "cell_type": "code",
   "execution_count": 2,
   "id": "0756e964",
   "metadata": {},
   "outputs": [],
   "source": [
    "mobile_filepath = \"./train.csv\""
   ]
  },
  {
   "cell_type": "code",
   "execution_count": 3,
   "id": "ac7f1517",
   "metadata": {},
   "outputs": [],
   "source": [
    "mobile_data = pd.read_csv(mobile_filepath)"
   ]
  },
  {
   "cell_type": "code",
   "execution_count": 4,
   "id": "96c3108d",
   "metadata": {
    "scrolled": false
   },
   "outputs": [
    {
     "data": {
      "text/html": [
       "<div>\n",
       "<style scoped>\n",
       "    .dataframe tbody tr th:only-of-type {\n",
       "        vertical-align: middle;\n",
       "    }\n",
       "\n",
       "    .dataframe tbody tr th {\n",
       "        vertical-align: top;\n",
       "    }\n",
       "\n",
       "    .dataframe thead th {\n",
       "        text-align: right;\n",
       "    }\n",
       "</style>\n",
       "<table border=\"1\" class=\"dataframe\">\n",
       "  <thead>\n",
       "    <tr style=\"text-align: right;\">\n",
       "      <th></th>\n",
       "      <th>battery_power</th>\n",
       "      <th>blue</th>\n",
       "      <th>clock_speed</th>\n",
       "      <th>dual_sim</th>\n",
       "      <th>fc</th>\n",
       "      <th>four_g</th>\n",
       "      <th>int_memory</th>\n",
       "      <th>m_dep</th>\n",
       "      <th>mobile_wt</th>\n",
       "      <th>n_cores</th>\n",
       "      <th>...</th>\n",
       "      <th>px_height</th>\n",
       "      <th>px_width</th>\n",
       "      <th>ram</th>\n",
       "      <th>sc_h</th>\n",
       "      <th>sc_w</th>\n",
       "      <th>talk_time</th>\n",
       "      <th>three_g</th>\n",
       "      <th>touch_screen</th>\n",
       "      <th>wifi</th>\n",
       "      <th>price_range</th>\n",
       "    </tr>\n",
       "  </thead>\n",
       "  <tbody>\n",
       "    <tr>\n",
       "      <th>0</th>\n",
       "      <td>842</td>\n",
       "      <td>0</td>\n",
       "      <td>2.2</td>\n",
       "      <td>0</td>\n",
       "      <td>1</td>\n",
       "      <td>0</td>\n",
       "      <td>7</td>\n",
       "      <td>0.6</td>\n",
       "      <td>188</td>\n",
       "      <td>2</td>\n",
       "      <td>...</td>\n",
       "      <td>20</td>\n",
       "      <td>756</td>\n",
       "      <td>2549</td>\n",
       "      <td>9</td>\n",
       "      <td>7</td>\n",
       "      <td>19</td>\n",
       "      <td>0</td>\n",
       "      <td>0</td>\n",
       "      <td>1</td>\n",
       "      <td>1</td>\n",
       "    </tr>\n",
       "    <tr>\n",
       "      <th>1</th>\n",
       "      <td>1021</td>\n",
       "      <td>1</td>\n",
       "      <td>0.5</td>\n",
       "      <td>1</td>\n",
       "      <td>0</td>\n",
       "      <td>1</td>\n",
       "      <td>53</td>\n",
       "      <td>0.7</td>\n",
       "      <td>136</td>\n",
       "      <td>3</td>\n",
       "      <td>...</td>\n",
       "      <td>905</td>\n",
       "      <td>1988</td>\n",
       "      <td>2631</td>\n",
       "      <td>17</td>\n",
       "      <td>3</td>\n",
       "      <td>7</td>\n",
       "      <td>1</td>\n",
       "      <td>1</td>\n",
       "      <td>0</td>\n",
       "      <td>2</td>\n",
       "    </tr>\n",
       "    <tr>\n",
       "      <th>2</th>\n",
       "      <td>563</td>\n",
       "      <td>1</td>\n",
       "      <td>0.5</td>\n",
       "      <td>1</td>\n",
       "      <td>2</td>\n",
       "      <td>1</td>\n",
       "      <td>41</td>\n",
       "      <td>0.9</td>\n",
       "      <td>145</td>\n",
       "      <td>5</td>\n",
       "      <td>...</td>\n",
       "      <td>1263</td>\n",
       "      <td>1716</td>\n",
       "      <td>2603</td>\n",
       "      <td>11</td>\n",
       "      <td>2</td>\n",
       "      <td>9</td>\n",
       "      <td>1</td>\n",
       "      <td>1</td>\n",
       "      <td>0</td>\n",
       "      <td>2</td>\n",
       "    </tr>\n",
       "    <tr>\n",
       "      <th>3</th>\n",
       "      <td>615</td>\n",
       "      <td>1</td>\n",
       "      <td>2.5</td>\n",
       "      <td>0</td>\n",
       "      <td>0</td>\n",
       "      <td>0</td>\n",
       "      <td>10</td>\n",
       "      <td>0.8</td>\n",
       "      <td>131</td>\n",
       "      <td>6</td>\n",
       "      <td>...</td>\n",
       "      <td>1216</td>\n",
       "      <td>1786</td>\n",
       "      <td>2769</td>\n",
       "      <td>16</td>\n",
       "      <td>8</td>\n",
       "      <td>11</td>\n",
       "      <td>1</td>\n",
       "      <td>0</td>\n",
       "      <td>0</td>\n",
       "      <td>2</td>\n",
       "    </tr>\n",
       "    <tr>\n",
       "      <th>4</th>\n",
       "      <td>1821</td>\n",
       "      <td>1</td>\n",
       "      <td>1.2</td>\n",
       "      <td>0</td>\n",
       "      <td>13</td>\n",
       "      <td>1</td>\n",
       "      <td>44</td>\n",
       "      <td>0.6</td>\n",
       "      <td>141</td>\n",
       "      <td>2</td>\n",
       "      <td>...</td>\n",
       "      <td>1208</td>\n",
       "      <td>1212</td>\n",
       "      <td>1411</td>\n",
       "      <td>8</td>\n",
       "      <td>2</td>\n",
       "      <td>15</td>\n",
       "      <td>1</td>\n",
       "      <td>1</td>\n",
       "      <td>0</td>\n",
       "      <td>1</td>\n",
       "    </tr>\n",
       "  </tbody>\n",
       "</table>\n",
       "<p>5 rows × 21 columns</p>\n",
       "</div>"
      ],
      "text/plain": [
       "   battery_power  blue  clock_speed  dual_sim  fc  four_g  int_memory  m_dep  \\\n",
       "0            842     0          2.2         0   1       0           7    0.6   \n",
       "1           1021     1          0.5         1   0       1          53    0.7   \n",
       "2            563     1          0.5         1   2       1          41    0.9   \n",
       "3            615     1          2.5         0   0       0          10    0.8   \n",
       "4           1821     1          1.2         0  13       1          44    0.6   \n",
       "\n",
       "   mobile_wt  n_cores  ...  px_height  px_width   ram  sc_h  sc_w  talk_time  \\\n",
       "0        188        2  ...         20       756  2549     9     7         19   \n",
       "1        136        3  ...        905      1988  2631    17     3          7   \n",
       "2        145        5  ...       1263      1716  2603    11     2          9   \n",
       "3        131        6  ...       1216      1786  2769    16     8         11   \n",
       "4        141        2  ...       1208      1212  1411     8     2         15   \n",
       "\n",
       "   three_g  touch_screen  wifi  price_range  \n",
       "0        0             0     1            1  \n",
       "1        1             1     0            2  \n",
       "2        1             1     0            2  \n",
       "3        1             0     0            2  \n",
       "4        1             1     0            1  \n",
       "\n",
       "[5 rows x 21 columns]"
      ]
     },
     "execution_count": 4,
     "metadata": {},
     "output_type": "execute_result"
    }
   ],
   "source": [
    "mobile_data.head()"
   ]
  },
  {
   "cell_type": "markdown",
   "id": "c5638304",
   "metadata": {},
   "source": [
    "## Подготовка данных"
   ]
  },
  {
   "cell_type": "code",
   "execution_count": 5,
   "id": "c2f45472",
   "metadata": {},
   "outputs": [],
   "source": [
    "target = 'price_range'\n",
    "categorical_features = ['blue', 'dual_sim', 'four_g', 'three_g', 'touch_screen', 'wifi']\n",
    "numerical_features = [feature for feature in list(mobile_data.columns) if feature != target and feature not in categorical_features]"
   ]
  },
  {
   "cell_type": "code",
   "execution_count": 6,
   "id": "af187e42",
   "metadata": {},
   "outputs": [],
   "source": [
    "from sklearn.pipeline import Pipeline\n",
    "from sklearn.compose import ColumnTransformer\n",
    "from sklearn.preprocessing import OneHotEncoder, StandardScaler, MinMaxScaler\n",
    "from sklearn.base import TransformerMixin"
   ]
  },
  {
   "cell_type": "markdown",
   "id": "f96f7f1f",
   "metadata": {},
   "source": [
    "Подготовим пайплайн обработки данных.\n",
    "Категориальные фичи преобразуем с помощью *ohe (OneHotEncoder)*. Если признак бинарный, то будем оставлять только один столбец для него. Количественные фичи нормализуем, а количественные фичи приведем к интервалу [0; 1]"
   ]
  },
  {
   "cell_type": "code",
   "execution_count": 7,
   "id": "e2b88c35",
   "metadata": {},
   "outputs": [],
   "source": [
    "data_preprocessing = ColumnTransformer([\n",
    "    ('ohe', OneHotEncoder(drop='if_binary'), categorical_features),\n",
    "    ('minmax', MinMaxScaler(), [feature for feature in numerical_features])\n",
    "])"
   ]
  },
  {
   "cell_type": "markdown",
   "id": "0146e085",
   "metadata": {},
   "source": [
    "Как видно, датасет имеет 4 класса ценовой категории телефонов (0,1,2,3). Приведу датасет к 2 классам для решения задачи бинарной классификации. Новая ценовая категория 0 будет соответствовать старым классам 0 и 1, а категория 1 - соответственно 2 и 3."
   ]
  },
  {
   "cell_type": "code",
   "execution_count": 8,
   "id": "e5d19c93",
   "metadata": {},
   "outputs": [],
   "source": [
    "mobile_data.loc[mobile_data.price_range == 1, 'price_range'] = 0\n",
    "mobile_data.loc[mobile_data.price_range == 2, 'price_range'] = 1\n",
    "mobile_data.loc[mobile_data.price_range == 3, 'price_range'] = 1"
   ]
  },
  {
   "cell_type": "code",
   "execution_count": 9,
   "id": "97575aab",
   "metadata": {
    "scrolled": true
   },
   "outputs": [
    {
     "data": {
      "text/html": [
       "<div>\n",
       "<style scoped>\n",
       "    .dataframe tbody tr th:only-of-type {\n",
       "        vertical-align: middle;\n",
       "    }\n",
       "\n",
       "    .dataframe tbody tr th {\n",
       "        vertical-align: top;\n",
       "    }\n",
       "\n",
       "    .dataframe thead th {\n",
       "        text-align: right;\n",
       "    }\n",
       "</style>\n",
       "<table border=\"1\" class=\"dataframe\">\n",
       "  <thead>\n",
       "    <tr style=\"text-align: right;\">\n",
       "      <th></th>\n",
       "      <th>battery_power</th>\n",
       "      <th>blue</th>\n",
       "      <th>clock_speed</th>\n",
       "      <th>dual_sim</th>\n",
       "      <th>fc</th>\n",
       "      <th>four_g</th>\n",
       "      <th>int_memory</th>\n",
       "      <th>m_dep</th>\n",
       "      <th>mobile_wt</th>\n",
       "      <th>n_cores</th>\n",
       "      <th>...</th>\n",
       "      <th>px_height</th>\n",
       "      <th>px_width</th>\n",
       "      <th>ram</th>\n",
       "      <th>sc_h</th>\n",
       "      <th>sc_w</th>\n",
       "      <th>talk_time</th>\n",
       "      <th>three_g</th>\n",
       "      <th>touch_screen</th>\n",
       "      <th>wifi</th>\n",
       "      <th>price_range</th>\n",
       "    </tr>\n",
       "  </thead>\n",
       "  <tbody>\n",
       "    <tr>\n",
       "      <th>0</th>\n",
       "      <td>842</td>\n",
       "      <td>0</td>\n",
       "      <td>2.2</td>\n",
       "      <td>0</td>\n",
       "      <td>1</td>\n",
       "      <td>0</td>\n",
       "      <td>7</td>\n",
       "      <td>0.6</td>\n",
       "      <td>188</td>\n",
       "      <td>2</td>\n",
       "      <td>...</td>\n",
       "      <td>20</td>\n",
       "      <td>756</td>\n",
       "      <td>2549</td>\n",
       "      <td>9</td>\n",
       "      <td>7</td>\n",
       "      <td>19</td>\n",
       "      <td>0</td>\n",
       "      <td>0</td>\n",
       "      <td>1</td>\n",
       "      <td>0</td>\n",
       "    </tr>\n",
       "    <tr>\n",
       "      <th>1</th>\n",
       "      <td>1021</td>\n",
       "      <td>1</td>\n",
       "      <td>0.5</td>\n",
       "      <td>1</td>\n",
       "      <td>0</td>\n",
       "      <td>1</td>\n",
       "      <td>53</td>\n",
       "      <td>0.7</td>\n",
       "      <td>136</td>\n",
       "      <td>3</td>\n",
       "      <td>...</td>\n",
       "      <td>905</td>\n",
       "      <td>1988</td>\n",
       "      <td>2631</td>\n",
       "      <td>17</td>\n",
       "      <td>3</td>\n",
       "      <td>7</td>\n",
       "      <td>1</td>\n",
       "      <td>1</td>\n",
       "      <td>0</td>\n",
       "      <td>1</td>\n",
       "    </tr>\n",
       "    <tr>\n",
       "      <th>2</th>\n",
       "      <td>563</td>\n",
       "      <td>1</td>\n",
       "      <td>0.5</td>\n",
       "      <td>1</td>\n",
       "      <td>2</td>\n",
       "      <td>1</td>\n",
       "      <td>41</td>\n",
       "      <td>0.9</td>\n",
       "      <td>145</td>\n",
       "      <td>5</td>\n",
       "      <td>...</td>\n",
       "      <td>1263</td>\n",
       "      <td>1716</td>\n",
       "      <td>2603</td>\n",
       "      <td>11</td>\n",
       "      <td>2</td>\n",
       "      <td>9</td>\n",
       "      <td>1</td>\n",
       "      <td>1</td>\n",
       "      <td>0</td>\n",
       "      <td>1</td>\n",
       "    </tr>\n",
       "    <tr>\n",
       "      <th>3</th>\n",
       "      <td>615</td>\n",
       "      <td>1</td>\n",
       "      <td>2.5</td>\n",
       "      <td>0</td>\n",
       "      <td>0</td>\n",
       "      <td>0</td>\n",
       "      <td>10</td>\n",
       "      <td>0.8</td>\n",
       "      <td>131</td>\n",
       "      <td>6</td>\n",
       "      <td>...</td>\n",
       "      <td>1216</td>\n",
       "      <td>1786</td>\n",
       "      <td>2769</td>\n",
       "      <td>16</td>\n",
       "      <td>8</td>\n",
       "      <td>11</td>\n",
       "      <td>1</td>\n",
       "      <td>0</td>\n",
       "      <td>0</td>\n",
       "      <td>1</td>\n",
       "    </tr>\n",
       "    <tr>\n",
       "      <th>4</th>\n",
       "      <td>1821</td>\n",
       "      <td>1</td>\n",
       "      <td>1.2</td>\n",
       "      <td>0</td>\n",
       "      <td>13</td>\n",
       "      <td>1</td>\n",
       "      <td>44</td>\n",
       "      <td>0.6</td>\n",
       "      <td>141</td>\n",
       "      <td>2</td>\n",
       "      <td>...</td>\n",
       "      <td>1208</td>\n",
       "      <td>1212</td>\n",
       "      <td>1411</td>\n",
       "      <td>8</td>\n",
       "      <td>2</td>\n",
       "      <td>15</td>\n",
       "      <td>1</td>\n",
       "      <td>1</td>\n",
       "      <td>0</td>\n",
       "      <td>0</td>\n",
       "    </tr>\n",
       "  </tbody>\n",
       "</table>\n",
       "<p>5 rows × 21 columns</p>\n",
       "</div>"
      ],
      "text/plain": [
       "   battery_power  blue  clock_speed  dual_sim  fc  four_g  int_memory  m_dep  \\\n",
       "0            842     0          2.2         0   1       0           7    0.6   \n",
       "1           1021     1          0.5         1   0       1          53    0.7   \n",
       "2            563     1          0.5         1   2       1          41    0.9   \n",
       "3            615     1          2.5         0   0       0          10    0.8   \n",
       "4           1821     1          1.2         0  13       1          44    0.6   \n",
       "\n",
       "   mobile_wt  n_cores  ...  px_height  px_width   ram  sc_h  sc_w  talk_time  \\\n",
       "0        188        2  ...         20       756  2549     9     7         19   \n",
       "1        136        3  ...        905      1988  2631    17     3          7   \n",
       "2        145        5  ...       1263      1716  2603    11     2          9   \n",
       "3        131        6  ...       1216      1786  2769    16     8         11   \n",
       "4        141        2  ...       1208      1212  1411     8     2         15   \n",
       "\n",
       "   three_g  touch_screen  wifi  price_range  \n",
       "0        0             0     1            0  \n",
       "1        1             1     0            1  \n",
       "2        1             1     0            1  \n",
       "3        1             0     0            1  \n",
       "4        1             1     0            0  \n",
       "\n",
       "[5 rows x 21 columns]"
      ]
     },
     "execution_count": 9,
     "metadata": {},
     "output_type": "execute_result"
    }
   ],
   "source": [
    "mobile_data.head()"
   ]
  },
  {
   "cell_type": "code",
   "execution_count": 10,
   "id": "586e5532",
   "metadata": {},
   "outputs": [
    {
     "data": {
      "text/plain": [
       "0    1000\n",
       "1    1000\n",
       "Name: price_range, dtype: int64"
      ]
     },
     "execution_count": 10,
     "metadata": {},
     "output_type": "execute_result"
    }
   ],
   "source": [
    "mobile_data['price_range'].value_counts()"
   ]
  },
  {
   "cell_type": "markdown",
   "id": "5aa942ff",
   "metadata": {},
   "source": [
    "Дата-сплиттинг"
   ]
  },
  {
   "cell_type": "code",
   "execution_count": 11,
   "id": "1d4b92d9",
   "metadata": {},
   "outputs": [],
   "source": [
    "from sklearn.model_selection import train_test_split"
   ]
  },
  {
   "cell_type": "code",
   "execution_count": 12,
   "id": "e77ae05c",
   "metadata": {},
   "outputs": [],
   "source": [
    "X = mobile_data.drop(target, axis=1)\n",
    "y = mobile_data[target]\n",
    "assert len(X) == len(y)"
   ]
  },
  {
   "cell_type": "code",
   "execution_count": 13,
   "id": "bb6fb2e0",
   "metadata": {},
   "outputs": [],
   "source": [
    "X_train, X_test, y_train, y_test = train_test_split(X, y, train_size=0.7, shuffle=True, random_state=66)"
   ]
  },
  {
   "cell_type": "code",
   "execution_count": 14,
   "id": "809b197b",
   "metadata": {},
   "outputs": [
    {
     "data": {
      "text/plain": [
       "((1400, 20), (600, 20))"
      ]
     },
     "execution_count": 14,
     "metadata": {},
     "output_type": "execute_result"
    }
   ],
   "source": [
    "X_train.shape, X_test.shape"
   ]
  },
  {
   "cell_type": "markdown",
   "id": "6a3988d4",
   "metadata": {},
   "source": [
    "## Реализация линейных моделей"
   ]
  },
  {
   "cell_type": "markdown",
   "id": "4ac368ab",
   "metadata": {},
   "source": [
    "### Логистическая регрессия\n",
    "\n",
    "Реализовал регрессию численным методом через градиентный спуск."
   ]
  },
  {
   "cell_type": "code",
   "execution_count": 15,
   "id": "c36f4aa5",
   "metadata": {},
   "outputs": [],
   "source": [
    "import numpy as np\n",
    "from sklearn.base import BaseEstimator, ClassifierMixin\n",
    "from sklearn.utils.validation import check_X_y, check_is_fitted, check_array\n",
    "from sklearn.utils.multiclass import unique_labels\n",
    "from sklearn.model_selection import GridSearchCV"
   ]
  },
  {
   "cell_type": "code",
   "execution_count": 16,
   "id": "4fc643ec",
   "metadata": {},
   "outputs": [],
   "source": [
    "class My_log_regression(BaseEstimator, ClassifierMixin):\n",
    "    def __init__(self, epochs=10, lr=0.1, batch_size=256):\n",
    "        self.w = None\n",
    "        self.epochs = epochs\n",
    "        self.lr = lr\n",
    "        self.batch_size = batch_size\n",
    "    \n",
    "    def fit(self, X, y):\n",
    "        X, y = check_X_y(X, y)\n",
    "        n, k = X.shape\n",
    "        \n",
    "        if self.w is None:\n",
    "            np.random.seed(0xDEAD)\n",
    "            self.w = np.random.randn(k + 1)\n",
    "\n",
    "        X = np.concatenate((np.ones((n, 1)), X), axis=1)\n",
    "        for i in range(self.epochs):\n",
    "            for j in range(0, len(X), self.batch_size):\n",
    "                X_batch = X[j:j+self.batch_size]\n",
    "                y_batch = y[j:j+self.batch_size]\n",
    "                \n",
    "                y_pred = self._predict_proba_internal(X_batch)\n",
    "                self.w -= self.lr * self._get_gradient(X_batch, y_batch, y_pred)\n",
    "\n",
    "        return self\n",
    "    \n",
    "    def _get_gradient(self, X_batch, y_batch, y_pred):\n",
    "        gradient = X_batch.T @ (y_pred - y_batch)\n",
    "        return gradient\n",
    "        \n",
    "    def predict_proba(self, X):\n",
    "        X = check_array(X)\n",
    "        \n",
    "        n = X.shape[0]\n",
    "        X = np.concatenate((np.ones((n, 1)), X), axis=1)\n",
    "        return self._sigmoid(np.dot(X, self.w))\n",
    "\n",
    "    def _predict_proba_internal(self, X):\n",
    "        return self._sigmoid(np.dot(X, self.w))\n",
    "\n",
    "    def predict(self, X, threshold=0.5):\n",
    "        return self.predict_proba(X) > threshold\n",
    "    \n",
    "    def _sigmoid(self, a):\n",
    "        return 1. / (1 + np.exp(-a))"
   ]
  },
  {
   "cell_type": "code",
   "execution_count": 17,
   "id": "b3b80ae7",
   "metadata": {},
   "outputs": [],
   "source": [
    "my_logreg_pipe = Pipeline(\n",
    "    steps=[\n",
    "        ('preprocessing', data_preprocessing),\n",
    "        ('logreg', My_log_regression())\n",
    "    ]\n",
    ")"
   ]
  },
  {
   "cell_type": "markdown",
   "id": "0308d1f7",
   "metadata": {},
   "source": [
    "### SVM\n",
    "Основан на нахождении наиболее правильной линии или гиперплоскости, разделяющую данные на два класса."
   ]
  },
  {
   "cell_type": "code",
   "execution_count": 18,
   "id": "ec6dc51c",
   "metadata": {},
   "outputs": [],
   "source": [
    "from sklearn.model_selection import RandomizedSearchCV"
   ]
  },
  {
   "cell_type": "code",
   "execution_count": 19,
   "id": "b8f2384e",
   "metadata": {},
   "outputs": [],
   "source": [
    "class My_svm(ClassifierMixin, BaseEstimator):\n",
    "    def __init__(self, epochs=10, lr=0.1, alpha=0.1):\n",
    "        self.w = None\n",
    "        self.epochs = epochs\n",
    "        self.lr = lr\n",
    "        self.alpha = alpha\n",
    "    \n",
    "    def fit(self, X, y):\n",
    "        X, y = check_X_y(X, y)\n",
    "        y = np.where(y == 1, 1, -1)\n",
    "        n, k = X.shape\n",
    "        \n",
    "        if self.w is None:\n",
    "            np.random.seed(66)\n",
    "            self.w = np.random.randn(k + 1)\n",
    "\n",
    "        X = np.concatenate((np.ones((n, 1)), X), axis=1)\n",
    "        for i in range(self.epochs):\n",
    "            for j, x in enumerate(X):\n",
    "                margin = y[j] * np.dot(self.w, x)\n",
    "                if margin >= 1:\n",
    "                    self.w -= self.lr * self.alpha * self.w / self.epochs\n",
    "                else:\n",
    "                    self.w += self.lr * (y[j] * x - self.alpha * self.w / self.epochs)\n",
    "        return self\n",
    "    \n",
    "    def predict(self, X):\n",
    "        X = check_array(X)\n",
    "        n, k = X.shape\n",
    "        X = np.concatenate((np.ones((n, 1)), X), axis=1)\n",
    "        y = np.ndarray((n))\n",
    "        \n",
    "        for i, elem in enumerate(X):\n",
    "            prediction = np.dot(self.w, elem)\n",
    "            if prediction > 0:\n",
    "                y[i] = 1\n",
    "            else:\n",
    "                y[i] = 0\n",
    "        return y\n",
    "    \n",
    "    \n",
    "    def _hinge_loss(self, x, y):\n",
    "        return max(0, 1 - y * np.dot(x, self.w))\n",
    "    \n",
    "    \n",
    "    def _soft_margin_loss(self, x, y):\n",
    "        return self._hinge_loss(x, y) + self.alpha * np.dot(self.w, self.w)"
   ]
  },
  {
   "cell_type": "code",
   "execution_count": 20,
   "id": "6cdc9205",
   "metadata": {},
   "outputs": [],
   "source": [
    "my_svm_pipe = Pipeline(\n",
    "    steps=[\n",
    "        ('preprocessing', data_preprocessing),\n",
    "        ('svm', My_svm())\n",
    "    ]\n",
    ")"
   ]
  },
  {
   "cell_type": "markdown",
   "id": "4275b764",
   "metadata": {},
   "source": [
    "### KNN\n",
    "Метод k ближайших соседей основан на подсчёте k объектов, до которых расстояние минимально, а затем классификации объекта, как наиболее встречающийся класс среди этих k объектов."
   ]
  },
  {
   "cell_type": "code",
   "execution_count": 21,
   "id": "05818cf1",
   "metadata": {},
   "outputs": [],
   "source": [
    "from sklearn.metrics import euclidean_distances\n",
    "\n",
    "class My_knn(ClassifierMixin, BaseEstimator):\n",
    "    def __init__(self, k = 1):\n",
    "        self.k = k\n",
    "\n",
    "    def fit(self, X, y):\n",
    "        # Check that X and y have correct shape\n",
    "        X, y = check_X_y(X, y)\n",
    "        # Store the classes seen during fit\n",
    "        self.classes_ = unique_labels(y)\n",
    "        \n",
    "        self.X_ = X\n",
    "        self.y_ = y\n",
    "        # Return the classifier\n",
    "        return self\n",
    "\n",
    "    def predict(self, X):\n",
    "        # Check is fit had been called\n",
    "        check_is_fitted(self, ['X_', 'y_'])\n",
    "        \n",
    "        # Input validation\n",
    "        X = check_array(X)\n",
    "        \n",
    "        y = np.ndarray((X.shape[0],))\n",
    "        for (i, elem) in enumerate(X):\n",
    "            distances = euclidean_distances([elem], self.X_)[0]\n",
    "            neighbors = np.argpartition(distances, kth = self. k - 1)\n",
    "            k_neighbors = neighbors[:self.k]\n",
    "            labels, cnts = np.unique(self.y_[k_neighbors], return_counts = True)\n",
    "            y[i] = labels[cnts.argmax()]\n",
    "        return y"
   ]
  },
  {
   "cell_type": "code",
   "execution_count": 22,
   "id": "1012596e",
   "metadata": {},
   "outputs": [],
   "source": [
    "my_knn_pipe = Pipeline(\n",
    "    steps=[\n",
    "        ('preprocessing', data_preprocessing),\n",
    "        ('knn', My_knn())\n",
    "    ]\n",
    ")"
   ]
  },
  {
   "cell_type": "markdown",
   "id": "6a8cbce4",
   "metadata": {},
   "source": [
    "### Naive Bayes"
   ]
  },
  {
   "cell_type": "markdown",
   "id": "fa5d72db",
   "metadata": {},
   "source": [
    "Наивный алгоритма Байеса заключается в предположении о том, что все признаки имеют нормальное распределение."
   ]
  },
  {
   "cell_type": "code",
   "execution_count": 23,
   "id": "34d923f8",
   "metadata": {},
   "outputs": [],
   "source": [
    "class My_naive_Bayes(BaseEstimator, ClassifierMixin):\n",
    "    def __init__(self):\n",
    "        pass\n",
    "    \n",
    "    def fit(self, X, y):\n",
    "        X, y = check_X_y(X, y)\n",
    "        labels, counts = np.unique(y, return_counts=True)\n",
    "        self.labels = labels\n",
    "        self.freq = np.array([cnt / y.shape[0] for cnt in counts])\n",
    "        self.means = np.array([X[y == label].mean(axis = 0) for label in labels])\n",
    "        self.stds = np.array([X[y == label].std(axis = 0) for label in labels])\n",
    "\n",
    "        return self\n",
    "    \n",
    "    def predict_proba(self, X):\n",
    "        X = check_array(X)\n",
    "        y = np.zeros(X.shape[0])\n",
    "        for i, x in enumerate(X):\n",
    "            cur_freq = np.array(self.freq)\n",
    "            for j in range(len(self.labels)):\n",
    "                p = np.array([self._gaussian(self.means[j][k], self.stds[j][k], x[k]) for k in range(X.shape[1])])\n",
    "                cur_freq[j] *= np.prod(p)\n",
    "            y[i] = cur_freq[1]\n",
    "        return y\n",
    "    \n",
    "    def predict(self, X, threshold=0.5):\n",
    "        return self.predict_proba(X) > threshold\n",
    "    \n",
    "    def _gaussian(self, mu, sigma, x0):\n",
    "        return np.exp(-(x0 - mu) ** 2 / (2 * sigma)) / np.sqrt(2.0 * np.pi * sigma)"
   ]
  },
  {
   "cell_type": "code",
   "execution_count": 24,
   "id": "77d47f7e",
   "metadata": {},
   "outputs": [],
   "source": [
    "my_nb_pipe = Pipeline(\n",
    "    steps=[\n",
    "        ('preprocessing', data_preprocessing),\n",
    "        ('nb', My_naive_Bayes())\n",
    "    ]\n",
    ")"
   ]
  },
  {
   "cell_type": "markdown",
   "id": "da36c7ff",
   "metadata": {},
   "source": [
    "## Метрики. Сравнение с моделями из sklearn."
   ]
  },
  {
   "cell_type": "markdown",
   "id": "c8c1af0c",
   "metadata": {},
   "source": [
    "В качестве основных выберу следующие метрики:\n",
    "\n",
    "    1. Accuracy\n",
    "    2. Recall\n",
    "    3. Precision\n",
    "    4. ROC AUC\n",
    "    5. Confusion matrix"
   ]
  },
  {
   "cell_type": "code",
   "execution_count": 25,
   "id": "b1310bb8",
   "metadata": {},
   "outputs": [],
   "source": [
    "from sklearn.metrics import accuracy_score, precision_score, recall_score, roc_auc_score, confusion_matrix\n",
    "from sklearn.metrics import precision_recall_curve\n",
    "\n",
    "import matplotlib.pyplot as plt"
   ]
  },
  {
   "cell_type": "code",
   "execution_count": 26,
   "id": "b08080ea",
   "metadata": {},
   "outputs": [],
   "source": [
    "def get_metrics(model, X, y_true, threshold=0.5, use_probas=True):\n",
    "    \n",
    "    if use_probas:\n",
    "        y_pred_probas = model.predict_proba(X)\n",
    "        if len(y_pred_probas.shape) == 2:\n",
    "            y_pred_probas = y_pred_probas[:, 1] \n",
    "        y_pred = y_pred_probas > threshold\n",
    "    else:\n",
    "        y_pred = model.predict(X)\n",
    "    \n",
    "    print('Accuracy = ', accuracy_score(y_true, y_pred))\n",
    "    print('Precision = ', precision_score(y_true, y_pred))\n",
    "    print('Recall = ', recall_score(y_true, y_pred))\n",
    "    if use_probas:\n",
    "        print('ROC AUC = ', roc_auc_score(y_true, y_pred_probas))\n",
    "    print('Confusion matrix:')\n",
    "    print(confusion_matrix(y_true, y_pred))"
   ]
  },
  {
   "cell_type": "markdown",
   "id": "63af27ba",
   "metadata": {},
   "source": [
    "**Моя логистическая регрессия**"
   ]
  },
  {
   "cell_type": "code",
   "execution_count": 27,
   "id": "a39f7ab9",
   "metadata": {},
   "outputs": [],
   "source": [
    "my_logreg_grid_search = GridSearchCV(my_logreg_pipe, {'logreg__lr': [0.001, 0.01, 0.05, 0.1,], 'logreg__epochs': [10, 20, 30, 40]})\n",
    "my_logreg_grid_search.fit(X_train, y_train);"
   ]
  },
  {
   "cell_type": "code",
   "execution_count": 28,
   "id": "0fefb225",
   "metadata": {},
   "outputs": [
    {
     "data": {
      "text/plain": [
       "{'logreg__epochs': 40, 'logreg__lr': 0.05}"
      ]
     },
     "execution_count": 28,
     "metadata": {},
     "output_type": "execute_result"
    }
   ],
   "source": [
    "my_logreg_grid_search.best_params_"
   ]
  },
  {
   "cell_type": "code",
   "execution_count": 29,
   "id": "a2cac445",
   "metadata": {},
   "outputs": [
    {
     "name": "stdout",
     "output_type": "stream",
     "text": [
      "Accuracy =  0.9433333333333334\n",
      "Precision =  0.9039039039039038\n",
      "Recall =  0.9933993399339934\n",
      "ROC AUC =  0.9973775155293307\n",
      "Confusion matrix:\n",
      "[[265  32]\n",
      " [  2 301]]\n"
     ]
    }
   ],
   "source": [
    "get_metrics(my_logreg_grid_search, X_test, y_test, threshold=0.129)"
   ]
  },
  {
   "cell_type": "code",
   "execution_count": 30,
   "id": "20b33f4f",
   "metadata": {},
   "outputs": [],
   "source": [
    "f = open(\"logreg.pkl\", \"wb\")\n",
    "pickle.dump(my_logreg_grid_search, f, pickle.HIGHEST_PROTOCOL)\n",
    "f.close()"
   ]
  },
  {
   "cell_type": "markdown",
   "id": "53e6a570",
   "metadata": {},
   "source": [
    "**Логистическая регрессия из sklearn**"
   ]
  },
  {
   "cell_type": "code",
   "execution_count": 31,
   "id": "effcd839",
   "metadata": {},
   "outputs": [],
   "source": [
    "from sklearn.linear_model import LogisticRegression\n",
    "\n",
    "sk_logreg_pipe = Pipeline(\n",
    "    steps=[\n",
    "        ('preprocessing', data_preprocessing),\n",
    "        ('logreg', LogisticRegression(class_weight='balanced'))\n",
    "    ]\n",
    ")"
   ]
  },
  {
   "cell_type": "code",
   "execution_count": 32,
   "id": "4f830cc2",
   "metadata": {},
   "outputs": [
    {
     "name": "stderr",
     "output_type": "stream",
     "text": [
      "C:\\Users\\Adise\\AppData\\Local\\Programs\\Python\\Python39\\lib\\site-packages\\sklearn\\linear_model\\_logistic.py:1483: UserWarning: Setting penalty='none' will ignore the C and l1_ratio parameters\n",
      "  warnings.warn(\n",
      "C:\\Users\\Adise\\AppData\\Local\\Programs\\Python\\Python39\\lib\\site-packages\\sklearn\\linear_model\\_logistic.py:1483: UserWarning: Setting penalty='none' will ignore the C and l1_ratio parameters\n",
      "  warnings.warn(\n",
      "C:\\Users\\Adise\\AppData\\Local\\Programs\\Python\\Python39\\lib\\site-packages\\sklearn\\linear_model\\_logistic.py:1483: UserWarning: Setting penalty='none' will ignore the C and l1_ratio parameters\n",
      "  warnings.warn(\n",
      "C:\\Users\\Adise\\AppData\\Local\\Programs\\Python\\Python39\\lib\\site-packages\\sklearn\\linear_model\\_logistic.py:1483: UserWarning: Setting penalty='none' will ignore the C and l1_ratio parameters\n",
      "  warnings.warn(\n",
      "C:\\Users\\Adise\\AppData\\Local\\Programs\\Python\\Python39\\lib\\site-packages\\sklearn\\linear_model\\_logistic.py:1483: UserWarning: Setting penalty='none' will ignore the C and l1_ratio parameters\n",
      "  warnings.warn(\n",
      "C:\\Users\\Adise\\AppData\\Local\\Programs\\Python\\Python39\\lib\\site-packages\\sklearn\\linear_model\\_logistic.py:1483: UserWarning: Setting penalty='none' will ignore the C and l1_ratio parameters\n",
      "  warnings.warn(\n",
      "C:\\Users\\Adise\\AppData\\Local\\Programs\\Python\\Python39\\lib\\site-packages\\sklearn\\linear_model\\_logistic.py:1483: UserWarning: Setting penalty='none' will ignore the C and l1_ratio parameters\n",
      "  warnings.warn(\n",
      "C:\\Users\\Adise\\AppData\\Local\\Programs\\Python\\Python39\\lib\\site-packages\\sklearn\\linear_model\\_logistic.py:1483: UserWarning: Setting penalty='none' will ignore the C and l1_ratio parameters\n",
      "  warnings.warn(\n",
      "C:\\Users\\Adise\\AppData\\Local\\Programs\\Python\\Python39\\lib\\site-packages\\sklearn\\linear_model\\_logistic.py:1483: UserWarning: Setting penalty='none' will ignore the C and l1_ratio parameters\n",
      "  warnings.warn(\n",
      "C:\\Users\\Adise\\AppData\\Local\\Programs\\Python\\Python39\\lib\\site-packages\\sklearn\\linear_model\\_logistic.py:1483: UserWarning: Setting penalty='none' will ignore the C and l1_ratio parameters\n",
      "  warnings.warn(\n",
      "C:\\Users\\Adise\\AppData\\Local\\Programs\\Python\\Python39\\lib\\site-packages\\sklearn\\linear_model\\_logistic.py:1483: UserWarning: Setting penalty='none' will ignore the C and l1_ratio parameters\n",
      "  warnings.warn(\n",
      "C:\\Users\\Adise\\AppData\\Local\\Programs\\Python\\Python39\\lib\\site-packages\\sklearn\\linear_model\\_logistic.py:1483: UserWarning: Setting penalty='none' will ignore the C and l1_ratio parameters\n",
      "  warnings.warn(\n",
      "C:\\Users\\Adise\\AppData\\Local\\Programs\\Python\\Python39\\lib\\site-packages\\sklearn\\linear_model\\_logistic.py:1483: UserWarning: Setting penalty='none' will ignore the C and l1_ratio parameters\n",
      "  warnings.warn(\n",
      "C:\\Users\\Adise\\AppData\\Local\\Programs\\Python\\Python39\\lib\\site-packages\\sklearn\\linear_model\\_logistic.py:1483: UserWarning: Setting penalty='none' will ignore the C and l1_ratio parameters\n",
      "  warnings.warn(\n",
      "C:\\Users\\Adise\\AppData\\Local\\Programs\\Python\\Python39\\lib\\site-packages\\sklearn\\linear_model\\_logistic.py:1483: UserWarning: Setting penalty='none' will ignore the C and l1_ratio parameters\n",
      "  warnings.warn(\n",
      "C:\\Users\\Adise\\AppData\\Local\\Programs\\Python\\Python39\\lib\\site-packages\\sklearn\\linear_model\\_logistic.py:1483: UserWarning: Setting penalty='none' will ignore the C and l1_ratio parameters\n",
      "  warnings.warn(\n"
     ]
    }
   ],
   "source": [
    "sk_logreg_grid_search = GridSearchCV(sk_logreg_pipe, {'logreg__penalty': ['none', 'l2'], 'logreg__C': [0.01, 0.1, 1, 10]})\n",
    "sk_logreg_grid_search.fit(X_train, y_train);"
   ]
  },
  {
   "cell_type": "code",
   "execution_count": 33,
   "id": "6cbd3391",
   "metadata": {},
   "outputs": [
    {
     "data": {
      "text/plain": [
       "{'logreg__C': 0.01, 'logreg__penalty': 'none'}"
      ]
     },
     "execution_count": 33,
     "metadata": {},
     "output_type": "execute_result"
    }
   ],
   "source": [
    "sk_logreg_grid_search.best_params_"
   ]
  },
  {
   "cell_type": "code",
   "execution_count": 34,
   "id": "3999a85b",
   "metadata": {},
   "outputs": [
    {
     "name": "stdout",
     "output_type": "stream",
     "text": [
      "Accuracy =  0.9833333333333333\n",
      "Precision =  0.9834983498349835\n",
      "Recall =  0.9834983498349835\n",
      "ROC AUC =  0.9927659432609928\n",
      "Confusion matrix:\n",
      "[[292   5]\n",
      " [  5 298]]\n"
     ]
    }
   ],
   "source": [
    "get_metrics(sk_logreg_grid_search, X_test, y_test, threshold=0.588)"
   ]
  },
  {
   "cell_type": "code",
   "execution_count": 35,
   "id": "adeb2a06",
   "metadata": {},
   "outputs": [],
   "source": [
    "f = open(\"logreg_sklearn.pkl\", \"wb\")\n",
    "pickle.dump(sk_logreg_grid_search, f, pickle.HIGHEST_PROTOCOL)\n",
    "f.close()"
   ]
  },
  {
   "cell_type": "markdown",
   "id": "7b955527",
   "metadata": {},
   "source": [
    "**Мой SVM**"
   ]
  },
  {
   "cell_type": "code",
   "execution_count": 36,
   "id": "0d378635",
   "metadata": {},
   "outputs": [],
   "source": [
    "my_svm_grid_search = RandomizedSearchCV(my_svm_pipe, {'svm__lr': [0.001, 0.01, 0.05, 0.1,],\n",
    "                                  'svm__epochs': [10, 20, 30, 40],\n",
    "                                  'svm__alpha': [0.01, 0.1, 1, 10]})\n",
    "my_svm_grid_search.fit(X_train, y_train);"
   ]
  },
  {
   "cell_type": "code",
   "execution_count": 37,
   "id": "246056cb",
   "metadata": {},
   "outputs": [
    {
     "data": {
      "text/plain": [
       "{'svm__lr': 0.05, 'svm__epochs': 30, 'svm__alpha': 0.01}"
      ]
     },
     "execution_count": 37,
     "metadata": {},
     "output_type": "execute_result"
    }
   ],
   "source": [
    "my_svm_grid_search.best_params_"
   ]
  },
  {
   "cell_type": "code",
   "execution_count": 38,
   "id": "4fdc9996",
   "metadata": {},
   "outputs": [
    {
     "name": "stdout",
     "output_type": "stream",
     "text": [
      "Accuracy =  0.9533333333333334\n",
      "Precision =  1.0\n",
      "Recall =  0.9075907590759076\n",
      "Confusion matrix:\n",
      "[[297   0]\n",
      " [ 28 275]]\n"
     ]
    }
   ],
   "source": [
    "get_metrics(my_svm_grid_search, X_test, y_test, use_probas=False)"
   ]
  },
  {
   "cell_type": "code",
   "execution_count": 39,
   "id": "b5cd297a",
   "metadata": {},
   "outputs": [],
   "source": [
    "f = open(\"svm.pkl\", \"wb\")\n",
    "pickle.dump(my_svm_grid_search, f, pickle.HIGHEST_PROTOCOL)\n",
    "f.close()"
   ]
  },
  {
   "cell_type": "markdown",
   "id": "0fc36343",
   "metadata": {},
   "source": [
    "**SVM из sklearn**"
   ]
  },
  {
   "cell_type": "code",
   "execution_count": 40,
   "id": "884e8f5a",
   "metadata": {},
   "outputs": [],
   "source": [
    "from sklearn.svm import LinearSVC\n",
    "\n",
    "sk_svm_pipe = Pipeline(\n",
    "    steps=[\n",
    "        ('preprocessing', data_preprocessing),\n",
    "        ('svm', LinearSVC(class_weight='balanced'))\n",
    "    ]\n",
    ")"
   ]
  },
  {
   "cell_type": "code",
   "execution_count": 41,
   "id": "d67718f4",
   "metadata": {
    "scrolled": true
   },
   "outputs": [
    {
     "name": "stderr",
     "output_type": "stream",
     "text": [
      "C:\\Users\\Adise\\AppData\\Local\\Programs\\Python\\Python39\\lib\\site-packages\\sklearn\\svm\\_base.py:1206: ConvergenceWarning: Liblinear failed to converge, increase the number of iterations.\n",
      "  warnings.warn(\n",
      "C:\\Users\\Adise\\AppData\\Local\\Programs\\Python\\Python39\\lib\\site-packages\\sklearn\\svm\\_base.py:1206: ConvergenceWarning: Liblinear failed to converge, increase the number of iterations.\n",
      "  warnings.warn(\n",
      "C:\\Users\\Adise\\AppData\\Local\\Programs\\Python\\Python39\\lib\\site-packages\\sklearn\\svm\\_base.py:1206: ConvergenceWarning: Liblinear failed to converge, increase the number of iterations.\n",
      "  warnings.warn(\n",
      "C:\\Users\\Adise\\AppData\\Local\\Programs\\Python\\Python39\\lib\\site-packages\\sklearn\\svm\\_base.py:1206: ConvergenceWarning: Liblinear failed to converge, increase the number of iterations.\n",
      "  warnings.warn(\n",
      "C:\\Users\\Adise\\AppData\\Local\\Programs\\Python\\Python39\\lib\\site-packages\\sklearn\\svm\\_base.py:1206: ConvergenceWarning: Liblinear failed to converge, increase the number of iterations.\n",
      "  warnings.warn(\n",
      "C:\\Users\\Adise\\AppData\\Local\\Programs\\Python\\Python39\\lib\\site-packages\\sklearn\\svm\\_base.py:1206: ConvergenceWarning: Liblinear failed to converge, increase the number of iterations.\n",
      "  warnings.warn(\n",
      "C:\\Users\\Adise\\AppData\\Local\\Programs\\Python\\Python39\\lib\\site-packages\\sklearn\\svm\\_base.py:1206: ConvergenceWarning: Liblinear failed to converge, increase the number of iterations.\n",
      "  warnings.warn(\n",
      "C:\\Users\\Adise\\AppData\\Local\\Programs\\Python\\Python39\\lib\\site-packages\\sklearn\\svm\\_base.py:1206: ConvergenceWarning: Liblinear failed to converge, increase the number of iterations.\n",
      "  warnings.warn(\n",
      "C:\\Users\\Adise\\AppData\\Local\\Programs\\Python\\Python39\\lib\\site-packages\\sklearn\\svm\\_base.py:1206: ConvergenceWarning: Liblinear failed to converge, increase the number of iterations.\n",
      "  warnings.warn(\n",
      "C:\\Users\\Adise\\AppData\\Local\\Programs\\Python\\Python39\\lib\\site-packages\\sklearn\\svm\\_base.py:1206: ConvergenceWarning: Liblinear failed to converge, increase the number of iterations.\n",
      "  warnings.warn(\n",
      "C:\\Users\\Adise\\AppData\\Local\\Programs\\Python\\Python39\\lib\\site-packages\\sklearn\\svm\\_base.py:1206: ConvergenceWarning: Liblinear failed to converge, increase the number of iterations.\n",
      "  warnings.warn(\n",
      "C:\\Users\\Adise\\AppData\\Local\\Programs\\Python\\Python39\\lib\\site-packages\\sklearn\\svm\\_base.py:1206: ConvergenceWarning: Liblinear failed to converge, increase the number of iterations.\n",
      "  warnings.warn(\n",
      "C:\\Users\\Adise\\AppData\\Local\\Programs\\Python\\Python39\\lib\\site-packages\\sklearn\\svm\\_base.py:1206: ConvergenceWarning: Liblinear failed to converge, increase the number of iterations.\n",
      "  warnings.warn(\n",
      "C:\\Users\\Adise\\AppData\\Local\\Programs\\Python\\Python39\\lib\\site-packages\\sklearn\\svm\\_base.py:1206: ConvergenceWarning: Liblinear failed to converge, increase the number of iterations.\n",
      "  warnings.warn(\n",
      "C:\\Users\\Adise\\AppData\\Local\\Programs\\Python\\Python39\\lib\\site-packages\\sklearn\\svm\\_base.py:1206: ConvergenceWarning: Liblinear failed to converge, increase the number of iterations.\n",
      "  warnings.warn(\n",
      "C:\\Users\\Adise\\AppData\\Local\\Programs\\Python\\Python39\\lib\\site-packages\\sklearn\\svm\\_base.py:1206: ConvergenceWarning: Liblinear failed to converge, increase the number of iterations.\n",
      "  warnings.warn(\n"
     ]
    }
   ],
   "source": [
    "sk_svm_grid_search = GridSearchCV(sk_svm_pipe, {'svm__loss': ['hinge', 'squared_hinge'], 'svm__C': [0.01, 0.1, 1, 10]})\n",
    "sk_svm_grid_search.fit(X_train, y_train);"
   ]
  },
  {
   "cell_type": "code",
   "execution_count": 42,
   "id": "5d191591",
   "metadata": {},
   "outputs": [
    {
     "data": {
      "text/plain": [
       "{'svm__C': 10, 'svm__loss': 'squared_hinge'}"
      ]
     },
     "execution_count": 42,
     "metadata": {},
     "output_type": "execute_result"
    }
   ],
   "source": [
    "sk_svm_grid_search.best_params_"
   ]
  },
  {
   "cell_type": "code",
   "execution_count": 43,
   "id": "3eaf5056",
   "metadata": {},
   "outputs": [
    {
     "name": "stdout",
     "output_type": "stream",
     "text": [
      "Accuracy =  0.9833333333333333\n",
      "Precision =  0.9834983498349835\n",
      "Recall =  0.9834983498349835\n",
      "Confusion matrix:\n",
      "[[292   5]\n",
      " [  5 298]]\n"
     ]
    }
   ],
   "source": [
    "get_metrics(sk_svm_grid_search, X_test, y_test, use_probas=False)"
   ]
  },
  {
   "cell_type": "code",
   "execution_count": 44,
   "id": "ecd48286",
   "metadata": {},
   "outputs": [],
   "source": [
    "f = open(\"svm_sklearn.pkl\", \"wb\")\n",
    "pickle.dump(sk_svm_grid_search, f, pickle.HIGHEST_PROTOCOL)\n",
    "f.close()"
   ]
  },
  {
   "cell_type": "markdown",
   "id": "38291f0a",
   "metadata": {},
   "source": [
    "**Мой KNN**"
   ]
  },
  {
   "cell_type": "code",
   "execution_count": 45,
   "id": "683a3c90",
   "metadata": {
    "scrolled": false
   },
   "outputs": [],
   "source": [
    "my_knn_grid_search = GridSearchCV(my_knn_pipe, {'knn__k': [1, 3, 5, 7]})\n",
    "my_knn_grid_search.fit(X_train, y_train);"
   ]
  },
  {
   "cell_type": "code",
   "execution_count": 46,
   "id": "0fca940b",
   "metadata": {},
   "outputs": [
    {
     "data": {
      "text/plain": [
       "{'knn__k': 7}"
      ]
     },
     "execution_count": 46,
     "metadata": {},
     "output_type": "execute_result"
    }
   ],
   "source": [
    "my_knn_grid_search.best_params_"
   ]
  },
  {
   "cell_type": "code",
   "execution_count": 47,
   "id": "be053ed8",
   "metadata": {},
   "outputs": [
    {
     "name": "stdout",
     "output_type": "stream",
     "text": [
      "Accuracy =  0.7316666666666667\n",
      "Precision =  0.7448275862068966\n",
      "Recall =  0.7128712871287128\n",
      "Confusion matrix:\n",
      "[[223  74]\n",
      " [ 87 216]]\n"
     ]
    }
   ],
   "source": [
    "get_metrics(my_knn_grid_search, X_test, y_test, threshold=0.5, use_probas=False)"
   ]
  },
  {
   "cell_type": "code",
   "execution_count": 48,
   "id": "4af912f2",
   "metadata": {},
   "outputs": [],
   "source": [
    "f = open(\"knn.pkl\", \"wb\")\n",
    "pickle.dump(my_knn_grid_search, f, pickle.HIGHEST_PROTOCOL)\n",
    "f.close()"
   ]
  },
  {
   "cell_type": "markdown",
   "id": "b0c2d2e3",
   "metadata": {},
   "source": [
    "**KNN из sklearn**"
   ]
  },
  {
   "cell_type": "code",
   "execution_count": 49,
   "id": "e8771bef",
   "metadata": {},
   "outputs": [],
   "source": [
    "from sklearn.neighbors import KNeighborsClassifier\n",
    "\n",
    "sk_knn_pipe = Pipeline(\n",
    "    steps=[\n",
    "        ('preprocessing', data_preprocessing),\n",
    "        ('knn', KNeighborsClassifier())\n",
    "    ]\n",
    ")"
   ]
  },
  {
   "cell_type": "code",
   "execution_count": 50,
   "id": "ebd8fe71",
   "metadata": {},
   "outputs": [],
   "source": [
    "sk_knn_grid_search = GridSearchCV(sk_knn_pipe, {'knn__n_neighbors': [1, 3, 5, 7]})\n",
    "sk_knn_grid_search.fit(X_train, y_train);"
   ]
  },
  {
   "cell_type": "code",
   "execution_count": 51,
   "id": "b2178748",
   "metadata": {},
   "outputs": [
    {
     "data": {
      "text/plain": [
       "{'knn__n_neighbors': 7}"
      ]
     },
     "execution_count": 51,
     "metadata": {},
     "output_type": "execute_result"
    }
   ],
   "source": [
    "sk_knn_grid_search.best_params_"
   ]
  },
  {
   "cell_type": "code",
   "execution_count": 52,
   "id": "43b53ce8",
   "metadata": {},
   "outputs": [
    {
     "name": "stdout",
     "output_type": "stream",
     "text": [
      "Accuracy =  0.7316666666666667\n",
      "Precision =  0.7448275862068966\n",
      "Recall =  0.7128712871287128\n",
      "ROC AUC =  0.8100532275449768\n",
      "Confusion matrix:\n",
      "[[223  74]\n",
      " [ 87 216]]\n"
     ]
    }
   ],
   "source": [
    "get_metrics(sk_knn_grid_search, X_test, y_test, threshold=0.5)"
   ]
  },
  {
   "cell_type": "code",
   "execution_count": 53,
   "id": "da987c82",
   "metadata": {},
   "outputs": [],
   "source": [
    "f = open(\"sklearn_knn.pkl\", \"wb\")\n",
    "pickle.dump(sk_knn_grid_search, f, pickle.HIGHEST_PROTOCOL)\n",
    "f.close()"
   ]
  },
  {
   "cell_type": "markdown",
   "id": "00535519",
   "metadata": {},
   "source": [
    "**Мой наивный алгоритм Байеса**"
   ]
  },
  {
   "cell_type": "code",
   "execution_count": 54,
   "id": "b9a39c00",
   "metadata": {},
   "outputs": [],
   "source": [
    "my_nb_pipe.fit(X_train, y_train);"
   ]
  },
  {
   "cell_type": "code",
   "execution_count": 55,
   "id": "6047e281",
   "metadata": {
    "scrolled": true
   },
   "outputs": [
    {
     "name": "stdout",
     "output_type": "stream",
     "text": [
      "Accuracy =  0.505\n",
      "Precision =  0.505\n",
      "Recall =  1.0\n",
      "ROC AUC =  0.7696769676967696\n",
      "Confusion matrix:\n",
      "[[  0 297]\n",
      " [  0 303]]\n"
     ]
    }
   ],
   "source": [
    "get_metrics(my_nb_pipe, X_test, y_test, threshold=7e-12)"
   ]
  },
  {
   "cell_type": "code",
   "execution_count": 56,
   "id": "68174000",
   "metadata": {},
   "outputs": [],
   "source": [
    "f = open(\"nb.pkl\", \"wb\")\n",
    "pickle.dump(my_nb_pipe, f, pickle.HIGHEST_PROTOCOL)\n",
    "f.close()"
   ]
  },
  {
   "cell_type": "markdown",
   "id": "c23b5934",
   "metadata": {},
   "source": [
    "**Наивный алгоритм Байеса из sklearn**"
   ]
  },
  {
   "cell_type": "code",
   "execution_count": 57,
   "id": "a344d231",
   "metadata": {},
   "outputs": [],
   "source": [
    "from sklearn.naive_bayes import GaussianNB\n",
    "\n",
    "sk_nb_pipe = Pipeline(\n",
    "    steps=[\n",
    "        ('preprocessing', data_preprocessing),\n",
    "        ('nb', GaussianNB())\n",
    "    ]\n",
    ")"
   ]
  },
  {
   "cell_type": "code",
   "execution_count": 58,
   "id": "48d4e581",
   "metadata": {},
   "outputs": [],
   "source": [
    "sk_nb_pipe.fit(X_train, y_train);"
   ]
  },
  {
   "cell_type": "code",
   "execution_count": 59,
   "id": "49922179",
   "metadata": {},
   "outputs": [
    {
     "name": "stdout",
     "output_type": "stream",
     "text": [
      "Accuracy =  0.8383333333333334\n",
      "Precision =  1.0\n",
      "Recall =  0.6798679867986799\n",
      "ROC AUC =  0.9816981698169817\n",
      "Confusion matrix:\n",
      "[[297   0]\n",
      " [ 97 206]]\n"
     ]
    }
   ],
   "source": [
    "get_metrics(sk_nb_pipe, X_test, y_test, threshold=0.93)"
   ]
  },
  {
   "cell_type": "code",
   "execution_count": 60,
   "id": "9b6db3d8",
   "metadata": {},
   "outputs": [],
   "source": [
    "f = open(\"nb_sklearn.pkl\", \"wb\")\n",
    "pickle.dump(sk_nb_pipe, f, pickle.HIGHEST_PROTOCOL)\n",
    "f.close()"
   ]
  }
 ],
 "metadata": {
  "kernelspec": {
   "display_name": "Python 3 (ipykernel)",
   "language": "python",
   "name": "python3"
  },
  "language_info": {
   "codemirror_mode": {
    "name": "ipython",
    "version": 3
   },
   "file_extension": ".py",
   "mimetype": "text/x-python",
   "name": "python",
   "nbconvert_exporter": "python",
   "pygments_lexer": "ipython3",
   "version": "3.9.12"
  }
 },
 "nbformat": 4,
 "nbformat_minor": 5
}
